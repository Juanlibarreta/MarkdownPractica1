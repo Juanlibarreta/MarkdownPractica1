{
 "cells": [
  {
   "cell_type": "markdown",
   "metadata": {},
   "source": [
    ">### **Lo más importante**\n",
    ">\n",
    ">* Matemáticas\n",
    ">* Programación\n",
    ">* SQL\n",
    ">* Python\n",
    ">\n",
    ">![](img/python.png)\n",
    ">\n",
    ">Para ser programador hay que tener **iniciativa**. Si tienes dudas, consulta la documentación. Hay una cantidad inmensa de información al respecto. Keep calm and go for it!\n",
    ">\n",
    ">En esta página se aprende mucho de python: [page with python course](https://www.kaggle.com \"page with python course\")"
   ]
  }
 ],
 "metadata": {
  "kernelspec": {
   "display_name": "Python 3",
   "language": "python",
   "name": "python3"
  },
  "language_info": {
   "name": "python",
   "version": "3.7.4"
  },
  "orig_nbformat": 4
 },
 "nbformat": 4,
 "nbformat_minor": 2
}
